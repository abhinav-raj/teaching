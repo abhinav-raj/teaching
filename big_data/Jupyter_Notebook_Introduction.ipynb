{
 "cells": [
  {
   "cell_type": "markdown",
   "metadata": {},
   "source": [
    "# Jupyter Notebook Introduction\n",
    "\n",
    "![jupyter-notebooks-tutorial](assets/1566327093-2a494dad71d801e6116c32f1c94106b8.png \"jupyter-notebooks-tutorial\")\n",
    "\n",
    "The Jupyter Notebook is an open source web application that you can use to create and share documents that contain live code, equations, visualizations, and text. Jupyter Notebook is maintained by the people at [Project Jupyter](http://jupyter.org/).\n",
    "\n",
    "Jupyter Notebooks are a spin\\-off project from the IPython project, which used to have an IPython Notebook project itself. The name, Jupyter, comes from the core supported programming languages that it supports: Julia, Python, and R. Jupyter ships with the IPython kernel, which allows you to write your programs in Python, but there are currently over 100 other kernels that you can also use."
   ]
  },
  {
   "cell_type": "markdown",
   "metadata": {},
   "source": [
    "## Getting Up and Running With Jupyter Notebook\n",
    "\n",
    "The Jupyter Notebook is not included with Python, so if you want to try it out, you will need to install Jupyter. It is assumed that you are using **Python 3**.[website](https://www.python.org/). "
   ]
  },
  {
   "cell_type": "markdown",
   "metadata": {},
   "source": [
    "### Installation\n",
    "\n",
    "The most popular distribution of Python is [Anaconda](https://www.anaconda.com/distribution/). Anaconda comes with many scientific libraries preinstalled, including the Jupyter Notebook, so you don’t actually need to do anything other than install Anaconda itself."
   ]
  },
  {
   "cell_type": "markdown",
   "metadata": {},
   "source": [
    "### Starting the Jupyter Notebook Server\n",
    "\n",
    "Now that you have Jupyter installed, let’s learn how to use it. To get started, you can start jupyter notebook from application list, or you can open up your terminal application and go to a folder of your choice. Then just go to that location in your terminal and run the following command:\n",
    "\n",
    "$ jupyter notebook\n",
    "\n",
    "This will start up Jupyter and your default browser should start (or open a new tab) to the following URL: [http://localhost:8888/tree](http://localhost:8888/tree)\n",
    "\n",
    "Your browser should now look something like this:\n",
    "\n",
    "[![Jupyter Notebook Server](https://files.realpython.com/media/01_initial_notebook_screen.cb2ea87d9679.png)](https://files.realpython.com/media/01_initial_notebook_screen.cb2ea87d9679.png)\n",
    "\n",
    "Note that right now you are not actually running a Notebook, but instead you are just running the Notebook server. Let’s actually create a Notebook now!"
   ]
  },
  {
   "cell_type": "markdown",
   "metadata": {},
   "source": []
  },
  {
   "cell_type": "markdown",
   "metadata": {},
   "source": []
  },
  {
   "cell_type": "markdown",
   "metadata": {},
   "source": []
  },
  {
   "cell_type": "markdown",
   "metadata": {},
   "source": []
  },
  {
   "cell_type": "markdown",
   "metadata": {},
   "source": []
  },
  {
   "cell_type": "markdown",
   "metadata": {},
   "source": [
    "###### Reference:\n",
    "1. [https://realpython.com/jupyter-notebook-introduction/](https://realpython.com/jupyter-notebook-introduction/)\n",
    "2. [https://www.dataquest.io/blog/jupyter-notebook-tutorial/](https://www.dataquest.io/blog/jupyter-notebook-tutorial/)\n",
    "3. [https://github.com/takluyver/jupyter-intro-xfel-jan17](https://github.com/takluyver/jupyter-intro-xfel-jan17)"
   ]
  },
  {
   "cell_type": "code",
   "execution_count": null,
   "metadata": {},
   "outputs": [],
   "source": []
  }
 ],
 "metadata": {
  "kernelspec": {
   "display_name": "Python 3",
   "language": "python",
   "name": "python3"
  },
  "language_info": {
   "codemirror_mode": {
    "name": "ipython",
    "version": 3
   },
   "file_extension": ".py",
   "mimetype": "text/x-python",
   "name": "python",
   "nbconvert_exporter": "python",
   "pygments_lexer": "ipython3",
   "version": "3.6.9"
  }
 },
 "nbformat": 4,
 "nbformat_minor": 2
}
